{
  "nbformat": 4,
  "nbformat_minor": 0,
  "metadata": {
    "colab": {
      "provenance": []
    },
    "kernelspec": {
      "name": "python3",
      "display_name": "Python 3"
    },
    "language_info": {
      "name": "python"
    }
  },
  "cells": [
    {
      "cell_type": "code",
      "execution_count": 1,
      "metadata": {
        "id": "glMPvIRBTWpI"
      },
      "outputs": [],
      "source": [
        "! pip install -q langchain-google-genai langchain-community langgraph langchain-core"
      ]
    },
    {
      "cell_type": "code",
      "source": [
        "from langchain_google_genai import ChatGoogleGenerativeAI\n",
        "from google.colab import userdata\n",
        "from langchain_community.tools.tavily_search import TavilySearchResults\n",
        "from langchain_core.messages import HumanMessage\n",
        "from langgraph.checkpoint.memory import MemorySaver\n",
        "from langgraph.prebuilt import create_react_agent\n",
        "import os"
      ],
      "metadata": {
        "id": "lg3L87zAUigE"
      },
      "execution_count": 2,
      "outputs": []
    },
    {
      "cell_type": "code",
      "source": [
        "GOOGLE_API_KEY = userdata.get('GOOGLE_API_KEY')\n",
        "TAVILY_API_KEY = userdata.get('TAVILY_API_KEY')"
      ],
      "metadata": {
        "id": "XrHocyygUtjC"
      },
      "execution_count": 3,
      "outputs": []
    },
    {
      "cell_type": "code",
      "source": [
        "os.environ[\"GOOGLE_API_KEY\"] = GOOGLE_API_KEY\n",
        "os.environ[\"TAVILY_API_KEY\"] = TAVILY_API_KEY"
      ],
      "metadata": {
        "id": "tznRcOcNU3iO"
      },
      "execution_count": 4,
      "outputs": []
    },
    {
      "cell_type": "code",
      "source": [
        "model = ChatGoogleGenerativeAI(model=\"gemini-1.5-flash\")"
      ],
      "metadata": {
        "id": "t8waPJ8-U6Gy"
      },
      "execution_count": 5,
      "outputs": []
    },
    {
      "cell_type": "code",
      "source": [
        "model.invoke(\"Hi\").content"
      ],
      "metadata": {
        "colab": {
          "base_uri": "https://localhost:8080/",
          "height": 36
        },
        "id": "_6O4TQg4VI0p",
        "outputId": "a560ac15-ff4d-4d79-abf3-5efd81b64f6f"
      },
      "execution_count": 6,
      "outputs": [
        {
          "output_type": "execute_result",
          "data": {
            "text/plain": [
              "'Hi there! How can I help you today?'"
            ],
            "application/vnd.google.colaboratory.intrinsic+json": {
              "type": "string"
            }
          },
          "metadata": {},
          "execution_count": 6
        }
      ]
    },
    {
      "cell_type": "code",
      "source": [
        "messages = [\n",
        "    (\"system\", \"You are expert in python coding.\"),\n",
        "    (\"user\", \"Need python code for factorial of number\")\n",
        "]"
      ],
      "metadata": {
        "id": "0Un_05YgVLJe"
      },
      "execution_count": 7,
      "outputs": []
    },
    {
      "cell_type": "code",
      "source": [
        "print(model.invoke(messages).content)"
      ],
      "metadata": {
        "colab": {
          "base_uri": "https://localhost:8080/"
        },
        "id": "ggNLmuXaW1Ng",
        "outputId": "39fa3215-1bec-4f28-be89-3abb15376a2e"
      },
      "execution_count": 8,
      "outputs": [
        {
          "output_type": "stream",
          "name": "stdout",
          "text": [
            "Several Python functions can calculate the factorial of a number. Here are a few options, each with different strengths and weaknesses:\n",
            "\n",
            "**Option 1: Iterative Approach (Most Efficient)**\n",
            "\n",
            "This is generally the most efficient method for calculating factorials, especially for larger numbers:\n",
            "\n",
            "```python\n",
            "def factorial_iterative(n):\n",
            "    \"\"\"\n",
            "    Calculates the factorial of a non-negative integer using iteration.\n",
            "\n",
            "    Args:\n",
            "        n: The non-negative integer.\n",
            "\n",
            "    Returns:\n",
            "        The factorial of n.  Raises ValueError if n is negative or not an integer.\n",
            "    \"\"\"\n",
            "    if not isinstance(n, int):\n",
            "        raise ValueError(\"Factorial is only defined for integers.\")\n",
            "    if n < 0:\n",
            "        raise ValueError(\"Factorial is not defined for negative numbers.\")\n",
            "    elif n == 0:\n",
            "        return 1\n",
            "    else:\n",
            "        result = 1\n",
            "        for i in range(1, n + 1):\n",
            "            result *= i\n",
            "        return result\n",
            "\n",
            "#Example Usage\n",
            "print(factorial_iterative(5))  # Output: 120\n",
            "print(factorial_iterative(0))  # Output: 1\n",
            "\n",
            "#Error Handling\n",
            "try:\n",
            "    print(factorial_iterative(-1))\n",
            "except ValueError as e:\n",
            "    print(f\"Error: {e}\") #Output: Error: Factorial is not defined for negative numbers.\n",
            "\n",
            "try:\n",
            "    print(factorial_iterative(3.14))\n",
            "except ValueError as e:\n",
            "    print(f\"Error: {e}\") #Output: Error: Factorial is only defined for integers.\n",
            "\n",
            "```\n",
            "\n",
            "**Option 2: Recursive Approach (Elegant but Less Efficient)**\n",
            "\n",
            "This approach is more concise but can be less efficient for larger numbers due to function call overhead and potential stack overflow issues:\n",
            "\n",
            "```python\n",
            "def factorial_recursive(n):\n",
            "    \"\"\"\n",
            "    Calculates the factorial of a non-negative integer using recursion.\n",
            "\n",
            "    Args:\n",
            "        n: The non-negative integer.\n",
            "\n",
            "    Returns:\n",
            "        The factorial of n. Raises ValueError if n is negative or not an integer.\n",
            "    \"\"\"\n",
            "    if not isinstance(n, int):\n",
            "        raise ValueError(\"Factorial is only defined for integers.\")\n",
            "    if n < 0:\n",
            "        raise ValueError(\"Factorial is not defined for negative numbers.\")\n",
            "    elif n == 0:\n",
            "        return 1\n",
            "    else:\n",
            "        return n * factorial_recursive(n - 1)\n",
            "\n",
            "#Example Usage (same output and error handling as iterative example)\n",
            "print(factorial_recursive(5))  # Output: 120\n",
            "print(factorial_recursive(0))  # Output: 1\n",
            "\n",
            "try:\n",
            "    print(factorial_recursive(-1))\n",
            "except ValueError as e:\n",
            "    print(f\"Error: {e}\")\n",
            "\n",
            "try:\n",
            "    print(factorial_recursive(3.14))\n",
            "except ValueError as e:\n",
            "    print(f\"Error: {e}\")\n",
            "```\n",
            "\n",
            "**Option 3: Using the `math` module (Concise and Efficient)**\n",
            "\n",
            "The `math` module provides a built-in `factorial` function which is generally efficient and well-optimized:\n",
            "\n",
            "```python\n",
            "import math\n",
            "\n",
            "def factorial_math(n):\n",
            "    \"\"\"\n",
            "    Calculates the factorial of a non-negative integer using the math module.\n",
            "\n",
            "    Args:\n",
            "        n: The non-negative integer.\n",
            "\n",
            "    Returns:\n",
            "        The factorial of n. Raises ValueError if n is negative or not an integer.\n",
            "    \"\"\"\n",
            "    if not isinstance(n, int):\n",
            "        raise ValueError(\"Factorial is only defined for integers.\")\n",
            "    if n < 0:\n",
            "        raise ValueError(\"Factorial is not defined for negative numbers.\")\n",
            "    return math.factorial(n)\n",
            "\n",
            "#Example Usage (same output and error handling as iterative example)\n",
            "print(factorial_math(5))  # Output: 120\n",
            "print(factorial_math(0))  # Output: 1\n",
            "\n",
            "try:\n",
            "    print(factorial_math(-1))\n",
            "except ValueError as e:\n",
            "    print(f\"Error: {e}\")\n",
            "\n",
            "try:\n",
            "    print(factorial_math(3.14))\n",
            "except ValueError as e:\n",
            "    print(f\"Error: {e}\")\n",
            "```\n",
            "\n",
            "For most cases, the iterative approach (`factorial_iterative`) or the `math.factorial` function are recommended due to their efficiency and robustness.  The recursive approach is primarily useful for demonstrating the concept of recursion, but it's not the most practical solution for large numbers.  Remember to handle potential errors (like negative input or non-integer input) for a robust solution.\n"
          ]
        }
      ]
    },
    {
      "cell_type": "code",
      "source": [
        "messages = [\n",
        "    (\"system\", \"You are an news reporter.\"),\n",
        "    (\"user\", \"tell me about 2025 LA wildfire updates\")\n",
        "]"
      ],
      "metadata": {
        "id": "25v1-JXiW4Mj"
      },
      "execution_count": 9,
      "outputs": []
    },
    {
      "cell_type": "code",
      "source": [
        "print(model.invoke(messages).content)"
      ],
      "metadata": {
        "colab": {
          "base_uri": "https://localhost:8080/"
        },
        "id": "XtwDEathaBw-",
        "outputId": "03ee168d-8521-4dd0-bf66-baf59ef9496e"
      },
      "execution_count": 10,
      "outputs": [
        {
          "output_type": "stream",
          "name": "stdout",
          "text": [
            "**Breaking News:  Increased Fire Risk Prompts LA County to Issue Red Flag Warning**\n",
            "\n",
            "Los Angeles, CA – October 26, 2024 –  The Los Angeles County Fire Department (LACoFD) has issued a Red Flag Warning effective immediately, citing critically dry conditions, high winds, and low humidity.  This heightened fire danger comes as the region continues to grapple with the ongoing effects of the severe drought.  While no major wildfires are currently burning within LA County, the warning underscores the extreme vulnerability of the region to rapidly spreading wildfires.\n",
            "\n",
            "Several smaller brush fires have been reported in the Angeles National Forest and the Santa Monica Mountains over the past week, all quickly contained by the swift response of firefighters.  However, officials are urging residents to remain vigilant and take preventative measures.  This includes clearing defensible space around homes, ensuring proper disposal of cigarettes, and avoiding activities that could spark a fire.\n",
            "\n",
            "“We’re on high alert,” said Chief Thompson of the LACoFD in a press conference earlier this afternoon. “The combination of these factors creates a perfect storm for a devastating wildfire. We’re asking everyone to take this warning seriously and help us protect our communities.”\n",
            "\n",
            "The Red Flag Warning is expected to remain in effect until at least Sunday evening, but could be extended depending on weather conditions.  The National Weather Service is forecasting strong Santa Ana winds to continue through the weekend, further exacerbating the risk.\n",
            "\n",
            "**Earlier this year:**  While significant wildfires haven't yet impacted the LA area in 2024 to the extent of previous years,  the prolonged drought has left vegetation exceptionally dry and susceptible to ignition.  The threat of large-scale wildfires remains a significant concern for residents and emergency responders throughout the fall and winter months.  We will continue to provide updates as the situation develops.  Stay tuned to this channel for the latest information.\n"
          ]
        }
      ]
    },
    {
      "cell_type": "markdown",
      "source": [
        "# Tavily Search Tool"
      ],
      "metadata": {
        "id": "ijGPghryaryK"
      }
    },
    {
      "cell_type": "code",
      "source": [
        "search = TavilySearchResults(max_results=2)"
      ],
      "metadata": {
        "id": "PcqgoSCXaEpL"
      },
      "execution_count": 11,
      "outputs": []
    },
    {
      "cell_type": "code",
      "source": [
        "search.invoke(\"tell me about 2025 LA wildfire\")"
      ],
      "metadata": {
        "colab": {
          "base_uri": "https://localhost:8080/"
        },
        "id": "7NZeLaBebChn",
        "outputId": "e98b6f70-d94d-41e9-d31d-dbd9a58a397f"
      },
      "execution_count": 12,
      "outputs": [
        {
          "output_type": "execute_result",
          "data": {
            "text/plain": [
              "[{'url': 'https://en.wikipedia.org/wiki/January_2025_Southern_California_wildfires',\n",
              "  'content': 'The January 2025 Southern California wildfires are an ongoing series of wildfires that struck the Los Angeles metropolitan area and surrounding regions on January 7, 2025, and was characterized by meteorological conditions including hurricane-force winds, very low humidity, and prolonged drought conditions that led to extreme fire danger. Vegetation and trees near the Getty Villa burned, with no structural damage being reported as of 5:20 pm PST.[8] The fire also spread to the Palisades Charter Elementary School.[24] Several beachfront properties in Malibu were destroyed by the wildfire.[18] Winds blew wildfire smoke across Los Angeles, leading to several \"very unhealthy\" air quality index readings of over 200, with the PM2.5 of the Harrison ES station reaching 184.1 µg/m³, or 36.8 times the annual World Health Organization guideline value.[8][28][29] ^ a b c \"Live updates: Pacific Palisades wildfire in Los Angeles, California orders evacuations\".'},\n",
              " {'url': 'https://crsreports.congress.gov/product/pdf/IF/IF12871',\n",
              "  'content': 'wildfires, primarily from the Palisades and Eaton Fires. In addition, the fires have destroyed over 12,000 structures and claimed the lives of at least 24 people, with hundreds of thousands of people under evacuation orders and evacuation warnings. Figure 1. Location of Los Angeles County Wildfires Map as of January 10, 2025, at 1:00 pm'}]"
            ]
          },
          "metadata": {},
          "execution_count": 12
        }
      ]
    },
    {
      "cell_type": "markdown",
      "source": [
        "# LangGraph"
      ],
      "metadata": {
        "id": "F4raVsNpcRpj"
      }
    },
    {
      "cell_type": "code",
      "source": [
        "model = ChatGoogleGenerativeAI(model=\"gemini-2.0-flash-exp\")"
      ],
      "metadata": {
        "id": "MFct1fzOdfy7"
      },
      "execution_count": 13,
      "outputs": []
    },
    {
      "cell_type": "code",
      "source": [
        "tools = [search]"
      ],
      "metadata": {
        "id": "PP5gmT9ybSGU"
      },
      "execution_count": 14,
      "outputs": []
    },
    {
      "cell_type": "code",
      "source": [
        "agent_executor = create_react_agent(model,tools)"
      ],
      "metadata": {
        "id": "rgXr1blRchyH"
      },
      "execution_count": 15,
      "outputs": []
    },
    {
      "cell_type": "code",
      "source": [
        "response = agent_executor.invoke({\"messages\":\"tell me about 2025 LA wildfire\"})\n",
        "response"
      ],
      "metadata": {
        "colab": {
          "base_uri": "https://localhost:8080/"
        },
        "id": "bH94-CNPcy5C",
        "outputId": "52570f1f-09c4-401b-e8d5-82f347631c3b"
      },
      "execution_count": 16,
      "outputs": [
        {
          "output_type": "execute_result",
          "data": {
            "text/plain": [
              "{'messages': [HumanMessage(content='tell me about 2025 LA wildfire', additional_kwargs={}, response_metadata={}, id='0da9d264-6e5a-4464-a433-af6be632f30f'),\n",
              "  AIMessage(content='', additional_kwargs={'function_call': {'name': 'tavily_search_results_json', 'arguments': '{\"query\": \"2025 LA wildfire\"}'}}, response_metadata={'prompt_feedback': {'block_reason': 0, 'safety_ratings': []}, 'finish_reason': 'STOP', 'safety_ratings': [{'category': 'HARM_CATEGORY_HATE_SPEECH', 'probability': 'NEGLIGIBLE', 'blocked': False}, {'category': 'HARM_CATEGORY_DANGEROUS_CONTENT', 'probability': 'NEGLIGIBLE', 'blocked': False}, {'category': 'HARM_CATEGORY_HARASSMENT', 'probability': 'NEGLIGIBLE', 'blocked': False}, {'category': 'HARM_CATEGORY_SEXUALLY_EXPLICIT', 'probability': 'NEGLIGIBLE', 'blocked': False}]}, id='run-74da9b4e-da9c-4235-9631-74ec04c209a1-0', tool_calls=[{'name': 'tavily_search_results_json', 'args': {'query': '2025 LA wildfire'}, 'id': '49a3ebd7-c617-40f1-b110-91eb4c147993', 'type': 'tool_call'}], usage_metadata={'input_tokens': 84, 'output_tokens': 15, 'total_tokens': 99, 'input_token_details': {'cache_read': 0}}),\n",
              "  ToolMessage(content='[{\"url\": \"https://en.wikipedia.org/wiki/January_2025_Southern_California_wildfires\", \"content\": \"The January 2025 Southern California wildfires are an ongoing series of wildfires that struck the Los Angeles metropolitan area and surrounding regions on January 7, 2025, and was characterized by meteorological conditions including hurricane-force winds, very low humidity, and prolonged drought conditions that led to extreme fire danger. Vegetation and trees near the Getty Villa burned, with no structural damage being reported as of 5:20 pm PST.[8] The fire also spread to the Palisades Charter Elementary School.[24] Several beachfront properties in Malibu were destroyed by the wildfire.[18] Winds blew wildfire smoke across Los Angeles, leading to several \\\\\"very unhealthy\\\\\" air quality index readings of over 200, with the PM2.5 of the Harrison ES station reaching 184.1 µg/m³, or 36.8 times the annual World Health Organization guideline value.[8][28][29] ^ a b c \\\\\"Live updates: Pacific Palisades wildfire in Los Angeles, California orders evacuations\\\\\".\"}, {\"url\": \"https://en.wikipedia.org/wiki/2025_California_wildfires\", \"content\": \"Jump to content Personal tools Toggle the table of contents 2025 California wildfires Edit View history Tools 2025 California wildfires Statistics[1][2][better\\xa0source\\xa0needed] Non-fatal injuries  22+ Hurst   Los Angeles 671 January 7  Lidia   Los Angeles 348 January 8  Sunset  Los Angeles 43  January 8  See also[edit] 22+ Injuries Confirmed at UCLA ^ \\\\\"Palisades Fire\\\\\". California wildfires Text is available under the Creative Commons Attribution-ShareAlike 4.0 License; additional terms may apply. By using this site, you agree to the Terms of Use and Privacy Policy. Wikipedia® is a registered trademark of the Wikimedia Foundation, Inc., a non-profit organization. Privacy policy About Wikipedia Statistics Mobile view\"}]', name='tavily_search_results_json', id='4874744b-cd30-48a7-af70-a46457fc74b1', tool_call_id='49a3ebd7-c617-40f1-b110-91eb4c147993', artifact={'query': '2025 LA wildfire', 'follow_up_questions': None, 'answer': None, 'images': [], 'results': [{'title': 'January 2025 Southern California wildfires - Wikipedia', 'url': 'https://en.wikipedia.org/wiki/January_2025_Southern_California_wildfires', 'content': 'The January 2025 Southern California wildfires are an ongoing series of wildfires that struck the Los Angeles metropolitan area and surrounding regions on January 7, 2025, and was characterized by meteorological conditions including hurricane-force winds, very low humidity, and prolonged drought conditions that led to extreme fire danger. Vegetation and trees near the Getty Villa burned, with no structural damage being reported as of 5:20 pm PST.[8] The fire also spread to the Palisades Charter Elementary School.[24] Several beachfront properties in Malibu were destroyed by the wildfire.[18] Winds blew wildfire smoke across Los Angeles, leading to several \"very unhealthy\" air quality index readings of over 200, with the PM2.5 of the Harrison ES station reaching 184.1 µg/m³, or 36.8 times the annual World Health Organization guideline value.[8][28][29] ^ a b c \"Live updates: Pacific Palisades wildfire in Los Angeles, California orders evacuations\".', 'score': 0.9065293, 'raw_content': None}, {'title': '2025 California wildfires - Wikipedia', 'url': 'https://en.wikipedia.org/wiki/2025_California_wildfires', 'content': 'Jump to content Personal tools Toggle the table of contents 2025 California wildfires Edit View history Tools 2025 California wildfires Statistics[1][2][better\\xa0source\\xa0needed] Non-fatal injuries  22+ Hurst   Los Angeles 671 January 7  Lidia   Los Angeles 348 January 8  Sunset  Los Angeles 43  January 8  See also[edit] 22+ Injuries Confirmed at UCLA ^ \"Palisades Fire\". California wildfires Text is available under the Creative Commons Attribution-ShareAlike 4.0 License; additional terms may apply. By using this site, you agree to the Terms of Use and Privacy Policy. Wikipedia® is a registered trademark of the Wikimedia Foundation, Inc., a non-profit organization. Privacy policy About Wikipedia Statistics Mobile view', 'score': 0.8679453, 'raw_content': None}], 'response_time': 1.48}),\n",
              "  AIMessage(content='The January 2025 Southern California wildfires were a series of wildfires that struck the Los Angeles metropolitan area and surrounding regions on January 7, 2025. These fires were characterized by hurricane-force winds, very low humidity, and prolonged drought conditions, which led to extreme fire danger.\\n\\nSeveral locations were affected, including:\\n\\n*   Vegetation and trees near the Getty Villa burned, but no structural damage was reported.\\n*   The fire spread to the Palisades Charter Elementary School.\\n*   Several beachfront properties in Malibu were destroyed.\\n\\nThe wildfires also caused significant air quality issues in Los Angeles, with several \"very unhealthy\" air quality index readings.\\n\\nThere were also reports of injuries, with 22+ injuries confirmed at UCLA. Specific fire incidents include the Hurst fire (671 acres), Lidia fire (348 acres), and Sunset fire (43 acres).', additional_kwargs={}, response_metadata={'prompt_feedback': {'block_reason': 0, 'safety_ratings': []}, 'finish_reason': 'STOP', 'safety_ratings': [{'category': 'HARM_CATEGORY_HATE_SPEECH', 'probability': 'NEGLIGIBLE', 'blocked': False}, {'category': 'HARM_CATEGORY_DANGEROUS_CONTENT', 'probability': 'HIGH', 'blocked': False}, {'category': 'HARM_CATEGORY_HARASSMENT', 'probability': 'NEGLIGIBLE', 'blocked': False}, {'category': 'HARM_CATEGORY_SEXUALLY_EXPLICIT', 'probability': 'NEGLIGIBLE', 'blocked': False}]}, id='run-7cf74173-129e-448e-ba38-d188a9f83da6-0', usage_metadata={'input_tokens': 579, 'output_tokens': 187, 'total_tokens': 766, 'input_token_details': {'cache_read': 0}})]}"
            ]
          },
          "metadata": {},
          "execution_count": 16
        }
      ]
    },
    {
      "cell_type": "code",
      "source": [
        "print(response[\"messages\"])"
      ],
      "metadata": {
        "colab": {
          "base_uri": "https://localhost:8080/"
        },
        "id": "9Z1DqdwkdI79",
        "outputId": "17246dc7-4443-44d7-a2ce-3b79d07ae03d"
      },
      "execution_count": 17,
      "outputs": [
        {
          "output_type": "stream",
          "name": "stdout",
          "text": [
            "[HumanMessage(content='tell me about 2025 LA wildfire', additional_kwargs={}, response_metadata={}, id='0da9d264-6e5a-4464-a433-af6be632f30f'), AIMessage(content='', additional_kwargs={'function_call': {'name': 'tavily_search_results_json', 'arguments': '{\"query\": \"2025 LA wildfire\"}'}}, response_metadata={'prompt_feedback': {'block_reason': 0, 'safety_ratings': []}, 'finish_reason': 'STOP', 'safety_ratings': [{'category': 'HARM_CATEGORY_HATE_SPEECH', 'probability': 'NEGLIGIBLE', 'blocked': False}, {'category': 'HARM_CATEGORY_DANGEROUS_CONTENT', 'probability': 'NEGLIGIBLE', 'blocked': False}, {'category': 'HARM_CATEGORY_HARASSMENT', 'probability': 'NEGLIGIBLE', 'blocked': False}, {'category': 'HARM_CATEGORY_SEXUALLY_EXPLICIT', 'probability': 'NEGLIGIBLE', 'blocked': False}]}, id='run-74da9b4e-da9c-4235-9631-74ec04c209a1-0', tool_calls=[{'name': 'tavily_search_results_json', 'args': {'query': '2025 LA wildfire'}, 'id': '49a3ebd7-c617-40f1-b110-91eb4c147993', 'type': 'tool_call'}], usage_metadata={'input_tokens': 84, 'output_tokens': 15, 'total_tokens': 99, 'input_token_details': {'cache_read': 0}}), ToolMessage(content='[{\"url\": \"https://en.wikipedia.org/wiki/January_2025_Southern_California_wildfires\", \"content\": \"The January 2025 Southern California wildfires are an ongoing series of wildfires that struck the Los Angeles metropolitan area and surrounding regions on January 7, 2025, and was characterized by meteorological conditions including hurricane-force winds, very low humidity, and prolonged drought conditions that led to extreme fire danger. Vegetation and trees near the Getty Villa burned, with no structural damage being reported as of 5:20 pm PST.[8] The fire also spread to the Palisades Charter Elementary School.[24] Several beachfront properties in Malibu were destroyed by the wildfire.[18] Winds blew wildfire smoke across Los Angeles, leading to several \\\\\"very unhealthy\\\\\" air quality index readings of over 200, with the PM2.5 of the Harrison ES station reaching 184.1 µg/m³, or 36.8 times the annual World Health Organization guideline value.[8][28][29] ^ a b c \\\\\"Live updates: Pacific Palisades wildfire in Los Angeles, California orders evacuations\\\\\".\"}, {\"url\": \"https://en.wikipedia.org/wiki/2025_California_wildfires\", \"content\": \"Jump to content Personal tools Toggle the table of contents 2025 California wildfires Edit View history Tools 2025 California wildfires Statistics[1][2][better\\xa0source\\xa0needed] Non-fatal injuries  22+ Hurst   Los Angeles 671 January 7  Lidia   Los Angeles 348 January 8  Sunset  Los Angeles 43  January 8  See also[edit] 22+ Injuries Confirmed at UCLA ^ \\\\\"Palisades Fire\\\\\". California wildfires Text is available under the Creative Commons Attribution-ShareAlike 4.0 License; additional terms may apply. By using this site, you agree to the Terms of Use and Privacy Policy. Wikipedia® is a registered trademark of the Wikimedia Foundation, Inc., a non-profit organization. Privacy policy About Wikipedia Statistics Mobile view\"}]', name='tavily_search_results_json', id='4874744b-cd30-48a7-af70-a46457fc74b1', tool_call_id='49a3ebd7-c617-40f1-b110-91eb4c147993', artifact={'query': '2025 LA wildfire', 'follow_up_questions': None, 'answer': None, 'images': [], 'results': [{'title': 'January 2025 Southern California wildfires - Wikipedia', 'url': 'https://en.wikipedia.org/wiki/January_2025_Southern_California_wildfires', 'content': 'The January 2025 Southern California wildfires are an ongoing series of wildfires that struck the Los Angeles metropolitan area and surrounding regions on January 7, 2025, and was characterized by meteorological conditions including hurricane-force winds, very low humidity, and prolonged drought conditions that led to extreme fire danger. Vegetation and trees near the Getty Villa burned, with no structural damage being reported as of 5:20 pm PST.[8] The fire also spread to the Palisades Charter Elementary School.[24] Several beachfront properties in Malibu were destroyed by the wildfire.[18] Winds blew wildfire smoke across Los Angeles, leading to several \"very unhealthy\" air quality index readings of over 200, with the PM2.5 of the Harrison ES station reaching 184.1 µg/m³, or 36.8 times the annual World Health Organization guideline value.[8][28][29] ^ a b c \"Live updates: Pacific Palisades wildfire in Los Angeles, California orders evacuations\".', 'score': 0.9065293, 'raw_content': None}, {'title': '2025 California wildfires - Wikipedia', 'url': 'https://en.wikipedia.org/wiki/2025_California_wildfires', 'content': 'Jump to content Personal tools Toggle the table of contents 2025 California wildfires Edit View history Tools 2025 California wildfires Statistics[1][2][better\\xa0source\\xa0needed] Non-fatal injuries  22+ Hurst   Los Angeles 671 January 7  Lidia   Los Angeles 348 January 8  Sunset  Los Angeles 43  January 8  See also[edit] 22+ Injuries Confirmed at UCLA ^ \"Palisades Fire\". California wildfires Text is available under the Creative Commons Attribution-ShareAlike 4.0 License; additional terms may apply. By using this site, you agree to the Terms of Use and Privacy Policy. Wikipedia® is a registered trademark of the Wikimedia Foundation, Inc., a non-profit organization. Privacy policy About Wikipedia Statistics Mobile view', 'score': 0.8679453, 'raw_content': None}], 'response_time': 1.48}), AIMessage(content='The January 2025 Southern California wildfires were a series of wildfires that struck the Los Angeles metropolitan area and surrounding regions on January 7, 2025. These fires were characterized by hurricane-force winds, very low humidity, and prolonged drought conditions, which led to extreme fire danger.\\n\\nSeveral locations were affected, including:\\n\\n*   Vegetation and trees near the Getty Villa burned, but no structural damage was reported.\\n*   The fire spread to the Palisades Charter Elementary School.\\n*   Several beachfront properties in Malibu were destroyed.\\n\\nThe wildfires also caused significant air quality issues in Los Angeles, with several \"very unhealthy\" air quality index readings.\\n\\nThere were also reports of injuries, with 22+ injuries confirmed at UCLA. Specific fire incidents include the Hurst fire (671 acres), Lidia fire (348 acres), and Sunset fire (43 acres).', additional_kwargs={}, response_metadata={'prompt_feedback': {'block_reason': 0, 'safety_ratings': []}, 'finish_reason': 'STOP', 'safety_ratings': [{'category': 'HARM_CATEGORY_HATE_SPEECH', 'probability': 'NEGLIGIBLE', 'blocked': False}, {'category': 'HARM_CATEGORY_DANGEROUS_CONTENT', 'probability': 'HIGH', 'blocked': False}, {'category': 'HARM_CATEGORY_HARASSMENT', 'probability': 'NEGLIGIBLE', 'blocked': False}, {'category': 'HARM_CATEGORY_SEXUALLY_EXPLICIT', 'probability': 'NEGLIGIBLE', 'blocked': False}]}, id='run-7cf74173-129e-448e-ba38-d188a9f83da6-0', usage_metadata={'input_tokens': 579, 'output_tokens': 187, 'total_tokens': 766, 'input_token_details': {'cache_read': 0}})]\n"
          ]
        }
      ]
    },
    {
      "cell_type": "markdown",
      "source": [
        "# Memory"
      ],
      "metadata": {
        "id": "NDFVVY3Nd2Hy"
      }
    },
    {
      "cell_type": "code",
      "source": [
        "memory = MemorySaver()"
      ],
      "metadata": {
        "id": "BBPxRbpwdqBZ"
      },
      "execution_count": 18,
      "outputs": []
    },
    {
      "cell_type": "code",
      "source": [
        "agent_executor = create_react_agent(model,tools,checkpointer=memory)"
      ],
      "metadata": {
        "id": "K_0AHTmGd-HU"
      },
      "execution_count": 19,
      "outputs": []
    },
    {
      "cell_type": "code",
      "source": [
        "config = {\"configurable\":{\"thread_id\":\"001\"}}"
      ],
      "metadata": {
        "id": "vPPK5lH_efWx"
      },
      "execution_count": 20,
      "outputs": []
    },
    {
      "cell_type": "code",
      "source": [
        "for chunk in agent_executor.stream({\"messages\":\"tell me about 2025 LA wildfire\"},config):\n",
        "  print(chunk)"
      ],
      "metadata": {
        "colab": {
          "base_uri": "https://localhost:8080/"
        },
        "id": "BFugjzmYd_j5",
        "outputId": "9b6dc2a4-d06b-4902-8a3d-fcd7ad498c45"
      },
      "execution_count": 21,
      "outputs": [
        {
          "output_type": "stream",
          "name": "stdout",
          "text": [
            "{'agent': {'messages': [AIMessage(content='', additional_kwargs={'function_call': {'name': 'tavily_search_results_json', 'arguments': '{\"query\": \"2025 LA wildfire\"}'}}, response_metadata={'prompt_feedback': {'block_reason': 0, 'safety_ratings': []}, 'finish_reason': 'STOP', 'safety_ratings': [{'category': 'HARM_CATEGORY_HATE_SPEECH', 'probability': 'NEGLIGIBLE', 'blocked': False}, {'category': 'HARM_CATEGORY_DANGEROUS_CONTENT', 'probability': 'NEGLIGIBLE', 'blocked': False}, {'category': 'HARM_CATEGORY_HARASSMENT', 'probability': 'NEGLIGIBLE', 'blocked': False}, {'category': 'HARM_CATEGORY_SEXUALLY_EXPLICIT', 'probability': 'NEGLIGIBLE', 'blocked': False}]}, id='run-ef6679c6-6401-4b98-a39c-d4405a74c31b-0', tool_calls=[{'name': 'tavily_search_results_json', 'args': {'query': '2025 LA wildfire'}, 'id': 'd447300b-012e-4df1-b4d6-2786c0621ae9', 'type': 'tool_call'}], usage_metadata={'input_tokens': 84, 'output_tokens': 15, 'total_tokens': 99, 'input_token_details': {'cache_read': 0}})]}}\n",
            "{'tools': {'messages': [ToolMessage(content='[{\"url\": \"https://en.wikipedia.org/wiki/January_2025_Southern_California_wildfires\", \"content\": \"The January 2025 Southern California wildfires are an ongoing series of wildfires that struck the Los Angeles metropolitan area and surrounding regions on January 7, 2025, and was characterized by meteorological conditions including hurricane-force winds, very low humidity, and prolonged drought conditions that led to extreme fire danger. Vegetation and trees near the Getty Villa burned, with no structural damage being reported as of 5:20 pm PST.[8] The fire also spread to the Palisades Charter Elementary School.[24] Several beachfront properties in Malibu were destroyed by the wildfire.[18] Winds blew wildfire smoke across Los Angeles, leading to several \\\\\"very unhealthy\\\\\" air quality index readings of over 200, with the PM2.5 of the Harrison ES station reaching 184.1 µg/m³, or 36.8 times the annual World Health Organization guideline value.[8][28][29] ^ a b c \\\\\"Live updates: Pacific Palisades wildfire in Los Angeles, California orders evacuations\\\\\".\"}, {\"url\": \"https://www.cnn.com/weather/live-news/fires-los-angeles-california-01-16-25/index.html\", \"content\": \"Live updates: Los Angeles wildfires, Palisades and Eaton fires, Auto fire in Ventura | CNN CNN10 About CNN • A window of dangerous fire weather conditions has closed, but firefighters battling the Los Angeles blazes are still contending with “extreme hazards and the potential for fire growth,” a Cal Fire official said. • For ways to help Los Angeles County residents, visit CNN Impact Your World. With conditions improving across Southern California Thursday through the weekend, the National Weather Service in Los Angeles is looking ahead to the potential of another Santa Ana Wind Event that may begin early next week. CNN10 About CNN\"}]', name='tavily_search_results_json', id='49eec322-2bd9-446e-9735-b3e16884151c', tool_call_id='d447300b-012e-4df1-b4d6-2786c0621ae9', artifact={'query': '2025 LA wildfire', 'follow_up_questions': None, 'answer': None, 'images': [], 'results': [{'title': 'January 2025 Southern California wildfires - Wikipedia', 'url': 'https://en.wikipedia.org/wiki/January_2025_Southern_California_wildfires', 'content': 'The January 2025 Southern California wildfires are an ongoing series of wildfires that struck the Los Angeles metropolitan area and surrounding regions on January 7, 2025, and was characterized by meteorological conditions including hurricane-force winds, very low humidity, and prolonged drought conditions that led to extreme fire danger. Vegetation and trees near the Getty Villa burned, with no structural damage being reported as of 5:20 pm PST.[8] The fire also spread to the Palisades Charter Elementary School.[24] Several beachfront properties in Malibu were destroyed by the wildfire.[18] Winds blew wildfire smoke across Los Angeles, leading to several \"very unhealthy\" air quality index readings of over 200, with the PM2.5 of the Harrison ES station reaching 184.1 µg/m³, or 36.8 times the annual World Health Organization guideline value.[8][28][29] ^ a b c \"Live updates: Pacific Palisades wildfire in Los Angeles, California orders evacuations\".', 'score': 0.9065293, 'raw_content': None}, {'title': 'January 16, 2025 - Los Angeles wildfires news - CNN', 'url': 'https://www.cnn.com/weather/live-news/fires-los-angeles-california-01-16-25/index.html', 'content': 'Live updates: Los Angeles wildfires, Palisades and Eaton fires, Auto fire in Ventura | CNN CNN10 About CNN • A window of dangerous fire weather conditions has closed, but firefighters battling the Los Angeles blazes are still contending with “extreme hazards and the potential for fire growth,” a Cal Fire official said. • For ways to help Los Angeles County residents, visit CNN Impact Your World. With conditions improving across Southern California Thursday through the weekend, the National Weather Service in Los Angeles is looking ahead to the potential of another Santa Ana Wind Event that may begin early next week. CNN10 About CNN', 'score': 0.7244226, 'raw_content': None}], 'response_time': 2.04})]}}\n",
            "{'agent': {'messages': [AIMessage(content=\"Based on my search, the 2025 LA wildfires were a series of wildfires that began on January 7, 2025, affecting the Los Angeles metropolitan area and surrounding regions. These fires were fueled by hurricane-force winds, low humidity, and drought conditions. Some of the areas affected include the Getty Villa, Palisades Charter Elementary School, and beachfront properties in Malibu. The fires also caused unhealthy air quality in Los Angeles due to smoke. While the dangerous fire weather conditions have improved, firefighters are still dealing with extreme hazards and potential for fire growth. There's also a possibility of another Santa Ana Wind Event early next week.\", additional_kwargs={}, response_metadata={'prompt_feedback': {'block_reason': 0, 'safety_ratings': []}, 'finish_reason': 'STOP', 'safety_ratings': [{'category': 'HARM_CATEGORY_HATE_SPEECH', 'probability': 'NEGLIGIBLE', 'blocked': False}, {'category': 'HARM_CATEGORY_DANGEROUS_CONTENT', 'probability': 'NEGLIGIBLE', 'blocked': False}, {'category': 'HARM_CATEGORY_HARASSMENT', 'probability': 'NEGLIGIBLE', 'blocked': False}, {'category': 'HARM_CATEGORY_SEXUALLY_EXPLICIT', 'probability': 'NEGLIGIBLE', 'blocked': False}]}, id='run-5657f7a9-c7c9-4589-9173-8303941e9fdc-0', usage_metadata={'input_tokens': 544, 'output_tokens': 133, 'total_tokens': 677, 'input_token_details': {'cache_read': 0}})]}}\n"
          ]
        }
      ]
    },
    {
      "cell_type": "code",
      "source": [
        "for chunk in agent_executor.stream({\"messages\":\"How it started\"},config):\n",
        "  print(chunk)"
      ],
      "metadata": {
        "colab": {
          "base_uri": "https://localhost:8080/"
        },
        "id": "yJ-cGHn3eK2L",
        "outputId": "27230d01-edd3-42d9-bac2-83d0f95f4281"
      },
      "execution_count": 22,
      "outputs": [
        {
          "output_type": "stream",
          "name": "stdout",
          "text": [
            "{'agent': {'messages': [AIMessage(content='', additional_kwargs={'function_call': {'name': 'tavily_search_results_json', 'arguments': '{\"query\": \"how did 2025 LA wildfire start\"}'}}, response_metadata={'prompt_feedback': {'block_reason': 0, 'safety_ratings': []}, 'finish_reason': 'STOP', 'safety_ratings': [{'category': 'HARM_CATEGORY_HATE_SPEECH', 'probability': 'NEGLIGIBLE', 'blocked': False}, {'category': 'HARM_CATEGORY_DANGEROUS_CONTENT', 'probability': 'NEGLIGIBLE', 'blocked': False}, {'category': 'HARM_CATEGORY_HARASSMENT', 'probability': 'NEGLIGIBLE', 'blocked': False}, {'category': 'HARM_CATEGORY_SEXUALLY_EXPLICIT', 'probability': 'NEGLIGIBLE', 'blocked': False}]}, id='run-ec6cc133-d4bb-4d00-9fe6-632f69ef634c-0', tool_calls=[{'name': 'tavily_search_results_json', 'args': {'query': 'how did 2025 LA wildfire start'}, 'id': '544f1765-3a1c-491d-adff-3f2f3df44385', 'type': 'tool_call'}], usage_metadata={'input_tokens': 681, 'output_tokens': 20, 'total_tokens': 701, 'input_token_details': {'cache_read': 0}})]}}\n",
            "{'tools': {'messages': [ToolMessage(content='[{\"url\": \"https://abcnews.go.com/US/los-angeles-wildfires-timeline-palisades-eaton/story?id=117643473\", \"content\": \"A palm tree burns as powerful winds fueling devastating wildfires in the Los Angeles area force people to evacuate, at the Eaton Fire in Altadena, Calif., on Jan. 8, 2025. 6:18 p.m.: Cal Fire reports the Eaton Fire has begun in Altadena, describing the incident as a \\\\\"fast-moving fire burning brush fueled by high winds,\\\\\" prompting evacuation orders. Newsom says more than 1,400 firefighting personnel and hundreds of \\\\\"prepositioned assets\\\\\" have been deployed to battle the \\\\\"unprecedented fires\\\\\" ravaging parts of Los Angeles, with the Palisades Fire growing to nearly 3,000 acres and the Eaton Fire to 1,000 acres by the morning. In the afternoon, the County of Los Angeles Department of Medical Examiner reports an additional fire-related death in the Eaton Fire, bringing the total fatalities in the two wildfires to 25.\"}, {\"url\": \"https://www.usatoday.com/story/news/nation/2025/01/09/how-did-california-wildfire-start/77573710007/\", \"content\": \"A growing number of wildfires spread rapidly across Los Angeles, fueled by powerful Santa Ana winds, low humidity and dry vegetation due to a lack of rain. Janice Coen, a project scientist at the National Center for Atmospheric Research in Boulder, Colorado, said these winds also dry out vegetation on the mountain ridges as they pass and can carry embers over long distances – allowing fires to spread rapidly. 10Best USAT Wine Club Shopping Best-selling Booklist Southern Kitchen Jobs Sports Betting Sports Weekly Studio Gannett Classifieds Homefront Home Internet Blueprint Auto Insurance Pet Insurance Travel Insurance Credit Cards Banking Personal Loans LLC Formation Payroll Software\"}]', name='tavily_search_results_json', id='3f534af3-77b7-4d4a-a2b6-42ed385197ad', tool_call_id='544f1765-3a1c-491d-adff-3f2f3df44385', artifact={'query': 'how did 2025 LA wildfire start', 'follow_up_questions': None, 'answer': None, 'images': [], 'results': [{'title': 'Los Angeles wildfires timeline: How the deadly blazes unfolded', 'url': 'https://abcnews.go.com/US/los-angeles-wildfires-timeline-palisades-eaton/story?id=117643473', 'content': 'A palm tree burns as powerful winds fueling devastating wildfires in the Los Angeles area force people to evacuate, at the Eaton Fire in Altadena, Calif., on Jan. 8, 2025. 6:18 p.m.: Cal Fire reports the Eaton Fire has begun in Altadena, describing the incident as a \"fast-moving fire burning brush fueled by high winds,\" prompting evacuation orders. Newsom says more than 1,400 firefighting personnel and hundreds of \"prepositioned assets\" have been deployed to battle the \"unprecedented fires\" ravaging parts of Los Angeles, with the Palisades Fire growing to nearly 3,000 acres and the Eaton Fire to 1,000 acres by the morning. In the afternoon, the County of Los Angeles Department of Medical Examiner reports an additional fire-related death in the Eaton Fire, bringing the total fatalities in the two wildfires to 25.', 'score': 0.8116913, 'raw_content': None}, {'title': 'What caused the LA fires 2025 to spread so rapidly? - USA TODAY', 'url': 'https://www.usatoday.com/story/news/nation/2025/01/09/how-did-california-wildfire-start/77573710007/', 'content': 'A growing number of wildfires spread rapidly across Los Angeles, fueled by powerful Santa Ana winds, low humidity and dry vegetation due to a lack of rain. Janice Coen, a project scientist at the National Center for Atmospheric Research in Boulder, Colorado, said these winds also dry out vegetation on the mountain ridges as they pass and can carry embers over long distances – allowing fires to spread rapidly. 10Best USAT Wine Club Shopping Best-selling Booklist Southern Kitchen Jobs Sports Betting Sports Weekly Studio Gannett Classifieds Homefront Home Internet Blueprint Auto Insurance Pet Insurance Travel Insurance Credit Cards Banking Personal Loans LLC Formation Payroll Software', 'score': 0.76321954, 'raw_content': None}], 'response_time': 1.55})]}}\n",
            "{'agent': {'messages': [AIMessage(content='Based on my search, the 2025 LA wildfires were primarily fueled by powerful Santa Ana winds, low humidity, and dry vegetation resulting from a lack of rain. The fires spread rapidly due to these conditions. Specifically, the Eaton Fire in Altadena was described as a \"fast-moving fire burning brush fueled by high winds.\" The winds also dried out vegetation and carried embers long distances, contributing to the rapid spread of the fires.', additional_kwargs={}, response_metadata={'prompt_feedback': {'block_reason': 0, 'safety_ratings': []}, 'finish_reason': 'STOP', 'safety_ratings': [{'category': 'HARM_CATEGORY_HATE_SPEECH', 'probability': 'NEGLIGIBLE', 'blocked': False}, {'category': 'HARM_CATEGORY_DANGEROUS_CONTENT', 'probability': 'MEDIUM', 'blocked': False}, {'category': 'HARM_CATEGORY_HARASSMENT', 'probability': 'NEGLIGIBLE', 'blocked': False}, {'category': 'HARM_CATEGORY_SEXUALLY_EXPLICIT', 'probability': 'NEGLIGIBLE', 'blocked': False}]}, id='run-79f4028c-5e69-4fdc-800f-3112c7948374-0', usage_metadata={'input_tokens': 1156, 'output_tokens': 90, 'total_tokens': 1246, 'input_token_details': {'cache_read': 0}})]}}\n"
          ]
        }
      ]
    },
    {
      "cell_type": "code",
      "source": [
        "config = {\"configurable\":{\"thread_id\":\"002\"}}\n",
        "\n",
        "for chunk in agent_executor.stream({\"messages\":\"How it started\"},config):\n",
        "  print(chunk)"
      ],
      "metadata": {
        "colab": {
          "base_uri": "https://localhost:8080/"
        },
        "id": "b8ys66ZIe2Tr",
        "outputId": "0a95da0b-5b6c-4b75-c3fc-b7ae73342c85"
      },
      "execution_count": 23,
      "outputs": [
        {
          "output_type": "stream",
          "name": "stdout",
          "text": [
            "{'agent': {'messages': [AIMessage(content='Could you please provide me with more context? What is the \"it\" you are referring to?', additional_kwargs={}, response_metadata={'prompt_feedback': {'block_reason': 0, 'safety_ratings': []}, 'finish_reason': 'STOP', 'safety_ratings': [{'category': 'HARM_CATEGORY_HATE_SPEECH', 'probability': 'NEGLIGIBLE', 'blocked': False}, {'category': 'HARM_CATEGORY_DANGEROUS_CONTENT', 'probability': 'NEGLIGIBLE', 'blocked': False}, {'category': 'HARM_CATEGORY_HARASSMENT', 'probability': 'NEGLIGIBLE', 'blocked': False}, {'category': 'HARM_CATEGORY_SEXUALLY_EXPLICIT', 'probability': 'NEGLIGIBLE', 'blocked': False}]}, id='run-e7f28d11-0615-4c26-a181-d047a2d86b5d-0', usage_metadata={'input_tokens': 77, 'output_tokens': 21, 'total_tokens': 98, 'input_token_details': {'cache_read': 0}})]}}\n"
          ]
        }
      ]
    }
  ]
}