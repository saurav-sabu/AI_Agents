{
  "nbformat": 4,
  "nbformat_minor": 0,
  "metadata": {
    "colab": {
      "provenance": []
    },
    "kernelspec": {
      "name": "python3",
      "display_name": "Python 3"
    },
    "language_info": {
      "name": "python"
    }
  },
  "cells": [
    {
      "cell_type": "code",
      "execution_count": null,
      "metadata": {
        "id": "AuEuiGXK_L3j"
      },
      "outputs": [],
      "source": [
        "! pip install -q crewai crewai[tools] langchain-openai langchain-community"
      ]
    },
    {
      "cell_type": "code",
      "source": [
        "import os\n",
        "from google.colab import userdata\n",
        "from crewai import Agent, Task, Crew, LLM\n",
        "from crewai_tools import SerperDevTool\n",
        "from langchain_openai import ChatOpenAI"
      ],
      "metadata": {
        "id": "soLF0I6e_VkD"
      },
      "execution_count": null,
      "outputs": []
    },
    {
      "cell_type": "code",
      "source": [
        "SERPER_API_KEY = userdata.get('SERPER_API_KEY')\n",
        "GOOGLE_API_KEY = userdata.get('GOOGLE_API_KEY')\n",
        "OPENAI_API_KEY = userdata.get('OPENAI_API_KEY')\n",
        "\n",
        "os.environ[\"GOOGLE_API_KEY\"] = GOOGLE_API_KEY\n",
        "os.environ[\"SERPER_API_KEY\"] = SERPER_API_KEY\n",
        "os.environ[\"OPENAI_API_KEY\"] = OPENAI_API_KEY"
      ],
      "metadata": {
        "id": "PZBcNpe0BCzz"
      },
      "execution_count": null,
      "outputs": []
    },
    {
      "cell_type": "code",
      "source": [
        "search_tools = SerperDevTool()"
      ],
      "metadata": {
        "id": "sMdRX0GaBPh-"
      },
      "execution_count": null,
      "outputs": []
    },
    {
      "cell_type": "code",
      "source": [
        "llm = LLM(\n",
        "    model=\"gpt-4\"\n",
        ")"
      ],
      "metadata": {
        "id": "oIXWH_wDCj6m"
      },
      "execution_count": null,
      "outputs": []
    },
    {
      "cell_type": "code",
      "source": [
        "def create_research_agent():\n",
        "  return Agent(\n",
        "      role = \"Research Specialist\",\n",
        "      goal = \"Conduct through research on given topics\",\n",
        "      backstory=\"You are an experienced Researcher with expertise in finding and synthesizing information from the various sources\",\n",
        "      verbose=True,\n",
        "      allow_delegation=False,\n",
        "      tools = [search_tools],\n",
        "      llm = llm\n",
        "  )"
      ],
      "metadata": {
        "id": "xshKVbdzBe7l"
      },
      "execution_count": null,
      "outputs": []
    },
    {
      "cell_type": "code",
      "source": [
        "def create_research_task(agent,topic):\n",
        "  return Task(\n",
        "      description = f\"Research on the following {topic} and give conprehensive summary on it.\",\n",
        "      agent=agent,\n",
        "      expected_output = \"A detailed summary of the research finding, including key points and insights related to topic\"\n",
        "  )"
      ],
      "metadata": {
        "id": "TJ5pLgJeDtfb"
      },
      "execution_count": null,
      "outputs": []
    },
    {
      "cell_type": "code",
      "source": [
        "def run_research(topic):\n",
        "  agent = create_research_agent()\n",
        "  task = create_research_task(agent,topic)\n",
        "  crew = Crew(agent=[agent],tasks=[task])\n",
        "  result = crew.kickoff()\n",
        "  return result"
      ],
      "metadata": {
        "id": "aefbWnnCEXeb"
      },
      "execution_count": null,
      "outputs": []
    },
    {
      "cell_type": "code",
      "source": [
        "print(\"Welcome to Research Agent\")\n",
        "topic = input(\"Enter the topic you want to search:\")\n",
        "result = run_research(topic)\n",
        "print(result)"
      ],
      "metadata": {
        "colab": {
          "base_uri": "https://localhost:8080/"
        },
        "id": "bYWgJoTqKK8u",
        "outputId": "fa8a1b50-f6d8-45f5-f070-1c225521e846"
      },
      "execution_count": null,
      "outputs": [
        {
          "output_type": "stream",
          "name": "stdout",
          "text": [
            "Welcome to Research Agent\n",
            "Enter the topic you want to search:what is large language model\n",
            "LLM value is already an LLM object\n",
            "\u001b[1m\u001b[95m# Agent:\u001b[00m \u001b[1m\u001b[92mResearch Specialist\u001b[00m\n",
            "\u001b[95m## Task:\u001b[00m \u001b[92mResearch on the following what is large language model and give conprehensive summary on it.\u001b[00m\n",
            "\n",
            "\n",
            "\u001b[1m\u001b[95m# Agent:\u001b[00m \u001b[1m\u001b[92mResearch Specialist\u001b[00m\n",
            "\u001b[95m## Using tool:\u001b[00m \u001b[92mSearch the internet with Serper\u001b[00m\n",
            "\u001b[95m## Tool Input:\u001b[00m \u001b[92m\n",
            "\"{\\\"search_query\\\": \\\"What is a Large Language Model?\\\"}\"\u001b[00m\n",
            "\u001b[95m## Tool Output:\u001b[00m \u001b[92m\n",
            "{'searchParameters': {'q': 'What is a Large Language Model?', 'type': 'search', 'num': 10, 'engine': 'google'}, 'organic': [{'title': 'Large language model - Wikipedia', 'link': 'https://en.wikipedia.org/wiki/Large_language_model', 'snippet': 'A large language model (LLM) is a type of machine learning model designed for natural language processing tasks such as language generation.', 'position': 1}, {'title': 'What Are Large Language Models (LLMs)? - IBM', 'link': 'https://www.ibm.com/think/topics/large-language-models', 'snippet': 'Large language models are AI systems capable of understanding and generating human language by processing vast amounts of text data.', 'position': 2}, {'title': 'What is an LLM (large language model)? - Cloudflare', 'link': 'https://www.cloudflare.com/learning/ai/what-is-large-language-model/', 'snippet': 'Large language models (LLMs) are machine learning models that can comprehend and generate human language text. They work by analyzing massive data sets of ...', 'position': 3}, {'title': 'What is a large language model (LLM)?', 'link': 'https://ask.library.arizona.edu/faq/407985', 'snippet': 'A large language model (LLM) is a type of artificial intelligence that can generate human language and perform related tasks. These models are trained on ...', 'position': 4}, {'title': 'How Large Language Models Work - YouTube', 'link': 'https://www.youtube.com/watch?v=5sLYAQS9sWQ', 'snippet': 'Learn in-demand Machine Learning skills now → https://ibm.biz/BdK65D Learn about watsonx → https://ibm.biz/BdvxRj Large language models-- or ...', 'position': 5}, {'title': 'What are Large Language Models? | A Comprehensive LLMs Guide', 'link': 'https://www.elastic.co/what-is/large-language-models', 'snippet': 'A large language model (LLM) is a deep learning algorithm that can perform a variety of natural language processing (NLP) tasks. Large language models use ...', 'position': 6}, {'title': 'What are Large Language Models? | NVIDIA', 'link': 'https://www.nvidia.com/en-us/glossary/large-language-models/', 'snippet': 'Large language models (LLMs) are deep learning algorithms that can recognize, summarize, translate, predict, and generate content using very large datasets.', 'position': 7}, {'title': 'Introduction to Large Language Models | Machine Learning', 'link': 'https://developers.google.com/machine-learning/resources/intro-llms', 'snippet': 'A language model is a machine learning model that aims to predict and generate plausible language. Autocomplete is a language model, for example.', 'position': 8, 'sitelinks': [{'title': 'Self-Attention', 'link': 'https://developers.google.com/machine-learning/resources/intro-llms#:~:text=Self%2Dattention,-Transformers%20rely%20heavily%20on%20a'}, {'title': 'What Are Some Use Cases For...', 'link': 'https://developers.google.com/machine-learning/resources/intro-llms#:~:text=What%20are%20some%20use%20cases%20for%20LLMs%3F,-LLMs%20are%20highly%20effective%20at'}, {'title': 'Llm Considerations', 'link': 'https://developers.google.com/machine-learning/resources/intro-llms#:~:text=LLM%20Considerations,-Models%20this%20large%20are%20not'}]}, {'title': 'What are Large Language Models (LLMs)? - TechTarget', 'link': 'https://www.techtarget.com/whatis/definition/large-language-model-LLM', 'snippet': 'A large language model is a type of artificial intelligence algorithm that uses deep learning techniques and massively large data sets to understand, summarize ...', 'position': 9, 'sitelinks': [{'title': 'What Is Gen Ai? Generative...', 'link': 'https://www.techtarget.com/whatis/definition/large-language-model-LLM#:~:text=What%20is%20Gen%20AI%3F%20Generative%20AI%20explained,-Which%20also%20includes%3A'}, {'title': 'How Do Large Language Models...', 'link': 'https://www.techtarget.com/whatis/definition/large-language-model-LLM#:~:text=How%20do%20large%20language%20models%20work%3F'}, {'title': 'What Are The Different Types...', 'link': 'https://www.techtarget.com/whatis/definition/large-language-model-LLM#:~:text=What%20are%20the%20different%20types%20of%20large%20language%20models%3F'}]}], 'peopleAlsoAsk': [{'question': 'What is a large language model in simple terms?', 'snippet': 'A Large Language Model (LLM) is a type of artificial intelligence that has been trained on a massive dataset of text and code. This allows them to generate text, translate languages, write different kinds of creative content, and answer your questions in an informative way.', 'title': 'Large Language Model - Artificial Intelligence: The Basics', 'link': 'https://itlc.northwoodtech.edu/introduction/ai/llm'}, {'question': 'What is an example of a LLM?', 'snippet': 'For example, virtual assistants like Siri, Alexa, or Google Assistant use LLMs to process natural language queries and provide useful information or execute tasks such as setting reminders or controlling smart home devices.', 'title': 'What is a Large Language Model (LLM)? Examples, Use Cases', 'link': 'https://em360tech.com/tech-article/large-language-model'}, {'question': 'What is the difference between LLM and AI?', 'snippet': 'LLMs provide context and memory capabilities, while generative AI enables the production of engaging responses. This results in more natural, humanlike, interactive conversations. Again, this technology refinement can ultimately help improve shopper satisfaction.', 'title': \"Large language models (LLMs) vs generative AI: what's the difference?\", 'link': 'https://www.algolia.com/blog/ai/large-language-models-llms-vs-generative-ai-whats-the-difference'}, {'question': 'What are the characteristics of a large language model?', 'snippet': 'Large language models use transformer models and are trained using massive datasets — hence, large. This enables them to recognize, translate, predict, or generate text or other content. Large language models are also referred to as neural networks (NNs), which are computing systems inspired by the human brain.', 'title': 'What are Large Language Models? | A Comprehensive LLMs Guide', 'link': 'https://www.elastic.co/what-is/large-language-models'}], 'relatedSearches': [{'query': 'What is a large language model llm'}, {'query': 'Large language models examples'}, {'query': 'What is a large language model in ai'}, {'query': 'List of large language models'}, {'query': 'What is LLM in generative AI'}, {'query': 'Is ChatGPT a large language model'}, {'query': 'What are large language models used for'}, {'query': 'LLM model'}], 'credits': 1}\u001b[00m\n",
            "\n",
            "\n",
            "\u001b[1m\u001b[95m# Agent:\u001b[00m \u001b[1m\u001b[92mResearch Specialist\u001b[00m\n",
            "\u001b[95m## Thought:\u001b[00m \u001b[92mThought: The search results provide multiple definitions and explanations for large language models (LLMs). Some key points identified include:\n",
            "- Large language models are AI systems that understand and generate human language.\n",
            "- They work by processing massive amounts of text data.\n",
            "- They're used in natural language processing tasks such as language generation.\n",
            "- LLMs utilize deep learning techniques.\n",
            "- Examples of LLMs include virtual assistants like Siri, Alexa, or Google Assistant.\n",
            "Next, I should look up these models' applications, strengths, and weaknesses to provide a comprehensive summary of large language models.\u001b[00m\n",
            "\u001b[95m## Using tool:\u001b[00m \u001b[92mSearch the internet with Serper\u001b[00m\n",
            "\u001b[95m## Tool Input:\u001b[00m \u001b[92m\n",
            "\"{\\\"search_query\\\": \\\"Applications and limitations of Large Language Models\\\"}\"\u001b[00m\n",
            "\u001b[95m## Tool Output:\u001b[00m \u001b[92m\n",
            "{'searchParameters': {'q': 'Applications and limitations of Large Language Models', 'type': 'search', 'num': 10, 'engine': 'google'}, 'organic': [{'title': 'The Working Limitations of Large Language Models', 'link': 'https://sloanreview.mit.edu/article/the-working-limitations-of-large-language-models/', 'snippet': 'Four Important Limitations of LLMs · 1. Limitations of Reasoning · 2. Limitations of Knowledge or Expertise · 3. Limitations of Understanding · 4.', 'position': 1}, {'title': 'Unveiling the power and limitations of large language models - 6Clicks', 'link': 'https://www.6clicks.com/resources/blog/unveiling-the-power-of-large-language-models', 'snippet': 'Limitations of large language models · Bias · Lack of explainability · Lack of computing power and resources · Guiding LLMs Thoughtfully.', 'position': 2}, {'title': 'Large language models: The basics and their applications', 'link': 'https://www.moveworks.com/us/en/resources/blog/large-language-models-strengths-and-weaknesses', 'snippet': \"Large language models aren't just for writing a quick email — they have the potential to completely transform how work is done, from internal IT ...\", 'position': 3}, {'title': '[2307.10169] Challenges and Applications of Large Language Models', 'link': 'https://arxiv.org/abs/2307.10169', 'snippet': \"In this paper, we aim to establish a systematic set of open problems and application successes so that ML researchers can comprehend the field's current state ...\", 'position': 4}, {'title': 'Large Language Models: Applications, Limitations and Potential ...', 'link': 'https://utilityanalytics.com/2024/09/large-language-models-grid-analytics/', 'snippet': 'This paper explores the potential applications of LLMs within power grid systems, aiming to enhance efficiency and automation.', 'position': 5}, {'title': 'What Are the Limitations of Large Language Models (LLMs)?', 'link': 'https://promptdrive.ai/llm-limitations/', 'snippet': \"Computational constraints – LLMs can't process everything at once · Hallucinations – sometimes LLMs make stuff up · Limited knowledge – LLMs can't ...\", 'position': 6}, {'title': 'Large Language Models: What You Need to Know in 2025', 'link': 'https://hatchworks.com/blog/gen-ai/large-language-models-guide/', 'snippet': 'Technical Limitations of Language Models. Large Language Models sometimes face technical limitations impacting their accuracy and ability to understand context.', 'position': 7}, {'title': 'Current applications and challenges in large language models for ...', 'link': 'https://www.nature.com/articles/s43856-024-00717-2', 'snippet': 'The introduction of large language models (LLMs) into clinical practice promises to improve patient education and empowerment, ...', 'position': 8, 'sitelinks': [{'title': 'Design Limitations', 'link': 'https://www.nature.com/articles/s43856-024-00717-2#:~:text=Design%20limitations,-In%20terms%20of%20design%20limitations'}, {'title': 'Discussion', 'link': 'https://www.nature.com/articles/s43856-024-00717-2#:~:text=Discussion,-In%20this%20systematic%20review%2C'}, {'title': 'Author Information', 'link': 'https://www.nature.com/articles/s43856-024-00717-2#:~:text=Author%20information'}]}, {'title': 'How to Overcome the Limitations of Large Language Models', 'link': 'https://www.deepchecks.com/how-to-overcome-the-limitations-of-large-language-models/', 'snippet': 'This blog post will delve into the limitations of LLMs, compare them with Foundation Models, and explore strategies for overcoming the limitations.', 'position': 9, 'sitelinks': [{'title': 'Introduction', 'link': 'https://www.deepchecks.com/how-to-overcome-the-limitations-of-large-language-models/#post-item-1'}, {'title': 'Foundation Model vs. LLM: A...', 'link': 'https://www.deepchecks.com/how-to-overcome-the-limitations-of-large-language-models/#post-item-3'}, {'title': 'Overcoming the Limitations of...', 'link': 'https://www.deepchecks.com/how-to-overcome-the-limitations-of-large-language-models/#post-item-4'}]}], 'peopleAlsoAsk': [{'question': 'What are the limitations of large language model?', 'snippet': 'While LLMs have varied use cases, including code generation, product launch strategies, and data analysis, they lack the capability to understand complex human emotions and relationships. Therefore, they cannot replace human communication entirely.', 'title': '10 Biggest Limitations of Large Language Models - ProjectPro', 'link': 'https://www.projectpro.io/article/llm-limitations/1045'}, {'question': 'What are some applications of LLMs?', 'snippet': 'TOP LLM USE CASES AND APPLICATIONS\\nAudio data analysis. LLMs are redefining how we handle audio data, turning hours of recordings into actionable insights we can use. ...\\nContent creation. ...\\nCustomer support. ...\\nLanguage translation and localization. ...\\nCustomer sentiment analysis. ...\\nEducation and training. ...\\nCybersecurity.', 'title': '7 LLM use cases and applications in 2024 - AssemblyAI', 'link': 'https://www.assemblyai.com/blog/llm-use-cases/'}, {'question': 'What are two current limitations of the LLMs quiz?', 'snippet': \"WHAT ARE THE LIMITATIONS OF LLMS?\\nHallucinations (Making Up Information) One weird thing about LLMs is that when they don't know the answer, they often won't admit it. ...\\nLimited Reasoning Skills. ...\\nLimited Long-Term Memory. ...\\nLimited Knowledge. ...\\nBias. ...\\nPrompt Hacking.\", 'title': 'Limitations of LLMs: Bias, Hallucinations, and More', 'link': 'https://learnprompting.org/docs/basics/pitfalls'}, {'question': 'What is the limitation of large language models of innovative creativity and diversity?', 'snippet': 'One major limitation is bias, which can manifest in various ways. It can impact the outputs of LLMs and raise concerns about fairness, ethics, and responsible use. LLMs are trained on massive datasets of text and code, which reflect societal biases and prejudices.\\nFeb 2, 2024', 'title': 'Unveiling the power and limitations of large language models - 6Clicks', 'link': 'https://www.6clicks.com/resources/blog/unveiling-the-power-of-large-language-models'}], 'relatedSearches': [{'query': 'Applications and limitations of large language models pdf'}, {'query': 'The working limitations of large language models PDF'}, {'query': 'Challenges and applications of Large Language Models'}, {'query': 'LLM limitations paper'}, {'query': 'LLM limitations Reddit'}, {'query': 'what is the purpose of a foundation model in the context of large language models?'}, {'query': 'Limitations of closed source Large language models'}, {'query': 'Research paper on large language models'}], 'credits': 1}\u001b[00m\n",
            "\n",
            "\n",
            "\u001b[1m\u001b[95m# Agent:\u001b[00m \u001b[1m\u001b[92mResearch Specialist\u001b[00m\n",
            "\u001b[95m## Final Answer:\u001b[00m \u001b[92m\n",
            "A Large Language Model (LLM) is a kind of AI system designed for natural language processing tasks like language generation. These models understand and produce human language by handling mammoth amounts of text data. They utilize deep learning techniques to perform their functions. One example of LLMs in daily use includes virtual assistants like Siri, Alexa, and Google Assistant.\n",
            "\n",
            "LLMs have significant potential in different fields, from transforming work processes, enhancing efficiency in power grid systems to improving patient education in clinical settings. However, they also have notable limitations. They can struggle with reasoning and might not have comprehensive understanding or expertise. Limited computing power and resources can also be a challenge. Issues such as bias, hallucinations (making stuff up), and limited context comprehension can occur. As a result, though they are incredibly useful tools, they are not infallible and cannot completely replace human communication.\u001b[00m\n",
            "\n",
            "\n",
            "A Large Language Model (LLM) is a kind of AI system designed for natural language processing tasks like language generation. These models understand and produce human language by handling mammoth amounts of text data. They utilize deep learning techniques to perform their functions. One example of LLMs in daily use includes virtual assistants like Siri, Alexa, and Google Assistant.\n",
            "\n",
            "LLMs have significant potential in different fields, from transforming work processes, enhancing efficiency in power grid systems to improving patient education in clinical settings. However, they also have notable limitations. They can struggle with reasoning and might not have comprehensive understanding or expertise. Limited computing power and resources can also be a challenge. Issues such as bias, hallucinations (making stuff up), and limited context comprehension can occur. As a result, though they are incredibly useful tools, they are not infallible and cannot completely replace human communication.\n"
          ]
        }
      ]
    },
    {
      "cell_type": "code",
      "source": [],
      "metadata": {
        "id": "AylY4xUhLIDO"
      },
      "execution_count": null,
      "outputs": []
    }
  ]
}