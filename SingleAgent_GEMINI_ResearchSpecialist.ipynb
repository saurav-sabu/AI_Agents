{
  "nbformat": 4,
  "nbformat_minor": 0,
  "metadata": {
    "colab": {
      "provenance": []
    },
    "kernelspec": {
      "name": "python3",
      "display_name": "Python 3"
    },
    "language_info": {
      "name": "python"
    }
  },
  "cells": [
    {
      "cell_type": "code",
      "execution_count": null,
      "metadata": {
        "id": "AuEuiGXK_L3j"
      },
      "outputs": [],
      "source": [
        "! pip install -q crewai crewai[tools] langchain-google-genai langchain-community"
      ]
    },
    {
      "cell_type": "code",
      "source": [
        "import os\n",
        "from google.colab import userdata\n",
        "from crewai import Agent, Task, Crew, LLM\n",
        "from crewai_tools import SerperDevTool\n",
        "from langchain_google_genai import ChatGoogleGenerativeAI"
      ],
      "metadata": {
        "id": "soLF0I6e_VkD"
      },
      "execution_count": 33,
      "outputs": []
    },
    {
      "cell_type": "code",
      "source": [
        "SERPER_API_KEY = userdata.get('SERPER_API_KEY')\n",
        "GOOGLE_API_KEY = userdata.get('GOOGLE_API_KEY')\n",
        "\n",
        "os.environ[\"GOOGLE_API_KEY\"] = GOOGLE_API_KEY\n",
        "os.environ[\"SERPER_API_KEY\"] = SERPER_API_KEY"
      ],
      "metadata": {
        "id": "PZBcNpe0BCzz"
      },
      "execution_count": 34,
      "outputs": []
    },
    {
      "cell_type": "code",
      "source": [
        "search_tools = SerperDevTool()"
      ],
      "metadata": {
        "id": "sMdRX0GaBPh-"
      },
      "execution_count": 35,
      "outputs": []
    },
    {
      "cell_type": "code",
      "source": [
        "llm = LLM(\n",
        "    model=\"gemini/gemini-1.5-flash\",\n",
        "    temperature=0.5\n",
        ")"
      ],
      "metadata": {
        "id": "oIXWH_wDCj6m"
      },
      "execution_count": 36,
      "outputs": []
    },
    {
      "cell_type": "code",
      "source": [
        "def create_research_agent():\n",
        "  return Agent(\n",
        "      role = \"Research Specialist\",\n",
        "      goal = \"Conduct through research on given topics\",\n",
        "      backstory=\"You are an experienced Researcher with expertise in finding and synthesizing information from the various sources\",\n",
        "      verbose=True,\n",
        "      allow_delegation=False,\n",
        "      tools = [search_tools],\n",
        "      llm = llm\n",
        "  )"
      ],
      "metadata": {
        "id": "xshKVbdzBe7l"
      },
      "execution_count": 37,
      "outputs": []
    },
    {
      "cell_type": "code",
      "source": [
        "def create_research_task(agent,topic):\n",
        "  return Task(\n",
        "      description = f\"Research on the following {topic} and give conprehensive summary on it.\",\n",
        "      agent=agent,\n",
        "      expected_output = \"A detailed summary of the research finding, including key points and insights related to topic\"\n",
        "  )"
      ],
      "metadata": {
        "id": "TJ5pLgJeDtfb"
      },
      "execution_count": 38,
      "outputs": []
    },
    {
      "cell_type": "code",
      "source": [
        "def run_research(topic):\n",
        "  agent = create_research_agent()\n",
        "  task = create_research_task(agent,topic)\n",
        "  crew = Crew(agent=[agent],tasks=[task])\n",
        "  result = crew.kickoff()\n",
        "  return result"
      ],
      "metadata": {
        "id": "aefbWnnCEXeb"
      },
      "execution_count": 39,
      "outputs": []
    },
    {
      "cell_type": "code",
      "source": [
        "print(\"Welcome to Research Agent\")\n",
        "topic = input(\"Enter the topic you want to search:\")\n",
        "result = run_research(topic)\n",
        "print(result)"
      ],
      "metadata": {
        "colab": {
          "base_uri": "https://localhost:8080/"
        },
        "id": "bYWgJoTqKK8u",
        "outputId": "8a179019-70aa-4802-c772-319622385235"
      },
      "execution_count": 40,
      "outputs": [
        {
          "name": "stdout",
          "output_type": "stream",
          "text": [
            "Welcome to Research Agent\n",
            "Enter the topic you want to search:generative ai\n"
          ]
        },
        {
          "output_type": "stream",
          "name": "stderr",
          "text": [
            "WARNING:opentelemetry.trace:Overriding of current TracerProvider is not allowed\n"
          ]
        },
        {
          "output_type": "stream",
          "name": "stdout",
          "text": [
            "LLM value is already an LLM object\n",
            "\u001b[1m\u001b[95m# Agent:\u001b[00m \u001b[1m\u001b[92mResearch Specialist\u001b[00m\n",
            "\u001b[95m## Task:\u001b[00m \u001b[92mResearch on the following generative ai and give conprehensive summary on it.\u001b[00m\n",
            "\n",
            "\n",
            "\u001b[1m\u001b[95m# Agent:\u001b[00m \u001b[1m\u001b[92mResearch Specialist\u001b[00m\n",
            "\u001b[95m## Using tool:\u001b[00m \u001b[92mSearch the internet with Serper\u001b[00m\n",
            "\u001b[95m## Tool Input:\u001b[00m \u001b[92m\n",
            "\"{\\\"search_query\\\": \\\"Generative AI\\\"}\"\u001b[00m\n",
            "\u001b[95m## Tool Output:\u001b[00m \u001b[92m\n",
            "{'searchParameters': {'q': 'Generative AI', 'type': 'search', 'num': 10, 'engine': 'google'}, 'organic': [{'title': 'Generative artificial intelligence - Wikipedia', 'link': 'https://en.wikipedia.org/wiki/Generative_artificial_intelligence', 'snippet': 'Generative artificial intelligence is a subset of artificial intelligence that uses generative models to produce text, images, videos, or other forms of ...', 'position': 1}, {'title': 'What is Generative AI? - IBM', 'link': 'https://www.ibm.com/think/topics/generative-ai', 'snippet': \"Generative AI is artificial intelligence (AI) that can create original content in response to a user's prompt or request.\", 'position': 2, 'sitelinks': [{'title': 'What is generative AI?', 'link': 'https://www.ibm.com/think/topics/generative-ai#What+is+generative+AI%3F'}, {'title': 'How generative AI works', 'link': 'https://www.ibm.com/think/topics/generative-ai#How+generative+AI+works'}]}, {'title': 'Generative AI', 'link': 'https://generativeai.net/', 'snippet': 'In healthcare, generative AI can help generate synthetic medical data to train machine learning models, develop new drug candidates, and design clinical trials.', 'position': 3}, {'title': 'Explained: Generative AI | MIT News', 'link': 'https://news.mit.edu/2023/explained-generative-ai-1109', 'snippet': 'Generative AI can be thought of as a machine-learning model that is trained to create new data, rather than making a prediction about a specific ...', 'position': 4}, {'title': 'What is Generative AI? | NVIDIA', 'link': 'https://www.nvidia.com/en-us/glossary/generative-ai/', 'snippet': 'Generative AI models use neural networks to identify the patterns and structures within existing data to generate new and original content.', 'position': 5}, {'title': 'What is ChatGPT, DALL-E, and generative AI? - McKinsey & Company', 'link': 'https://www.mckinsey.com/featured-insights/mckinsey-explainers/what-is-generative-ai', 'snippet': 'Generative artificial intelligence (AI) describes algorithms (such as ChatGPT) that can be used to create new content, including audio, ...', 'position': 6}, {'title': 'What is Gen AI? Generative AI Explained - TechTarget', 'link': 'https://www.techtarget.com/searchenterpriseai/definition/generative-AI', 'snippet': \"Generative AI focuses on creating new and original content, chat responses, designs, synthetic data or even deepfakes. It's particularly valuable in creative ...\", 'position': 7}, {'title': 'What is Generative AI? - Gen AI Explained - AWS', 'link': 'https://aws.amazon.com/what-is/generative-ai/', 'snippet': 'Generative AI, or gen AI, is a type of artificial intelligence (AI) that can create new content and ideas, like images and videos, and also reuse what it knows ...', 'position': 8, 'sitelinks': [{'title': 'Generative Ai Examples', 'link': 'https://aws.amazon.com/what-is/generative-ai/#:~:text=Generative%20AI%20examples'}, {'title': 'Generative Ai Benefits', 'link': 'https://aws.amazon.com/what-is/generative-ai/#:~:text=Generative%20AI%20benefits'}, {'title': 'How Do Generative Ai Models...', 'link': 'https://aws.amazon.com/what-is/generative-ai/#:~:text=How%20do%20generative%20AI%20models%20work%3F'}]}, {'title': 'Generative AI Examples | Google Cloud', 'link': 'https://cloud.google.com/use-cases/generative-ai', 'snippet': 'Generative AI or generative artificial intelligence refers to the use of AI to create new content, like text, images, music, audio, and videos.', 'position': 9}], 'peopleAlsoAsk': [{'question': 'What is generative AI?', 'snippet': 'Generative artificial intelligence, also known as generative AI or gen AI for short, is a type of AI that can create new content and ideas, including conversations, stories, images, videos, and music. It can learn human language, programming languages, art, chemistry, biology, or any complex subject matter.', 'title': 'What is Generative AI? - Gen AI Explained - AWS', 'link': 'https://aws.amazon.com/what-is/generative-ai/'}, {'question': 'What is generative AI examples?', 'snippet': 'Generative AI or generative artificial intelligence refers to the use of AI to create new content, like text, images, music, audio, and videos. Generative AI is powered by foundation models (large AI models) that can multi-task and perform out-of-the-box tasks, including summarization, Q&A, classification, and more.', 'title': 'Generative AI Examples | Google Cloud', 'link': 'https://cloud.google.com/use-cases/generative-ai'}, {'question': 'Is ChatGPT a generative AI?', 'snippet': \"Yes, ChatGPT is a generative AI tool. It's a specialized form of AI technology that creates human-like text responses.\", 'title': 'ChatGPT vs. Generative AI: Definitions and Distinctions - Upwork', 'link': 'https://www.upwork.com/resources/generative-ai-vs-chatgpt'}, {'question': 'What is the difference between generative AI and AI?', 'snippet': 'Unlike traditional AI systems, which are programmed with specific rules and algorithms, generative AI systems are trained on large datasets. They learn to form new content by identifying patterns and creating new variations based on those patterns. This allows generative AI systems to create original, creative content.', 'title': \"AI vs Generative AI: What's the Difference? - MyCase\", 'link': 'https://www.mycase.com/blog/ai/ai-vs-generative-ai/'}], 'relatedSearches': [{'query': 'Generative AI examples'}, {'query': 'Generative AI books'}, {'query': 'Generative AI tools'}, {'query': 'Generative AI course'}, {'query': 'Generative AI free'}, {'query': 'Generative AI image'}, {'query': 'Generative AI Google'}, {'query': 'Generative AI ChatGPT'}], 'credits': 1}\u001b[00m\n",
            "\n",
            "\n",
            "\u001b[1m\u001b[95m# Agent:\u001b[00m \u001b[1m\u001b[92mResearch Specialist\u001b[00m\n",
            "\u001b[95m## Using tool:\u001b[00m \u001b[92mSearch the internet with Serper\u001b[00m\n",
            "\u001b[95m## Tool Input:\u001b[00m \u001b[92m\n",
            "\"{\\\"search_query\\\": \\\"Generative AI applications\\\"}\"\u001b[00m\n",
            "\u001b[95m## Tool Output:\u001b[00m \u001b[92m\n",
            "{'searchParameters': {'q': 'Generative AI applications', 'type': 'search', 'num': 10, 'engine': 'google'}, 'organic': [{'title': '20 Examples of Generative AI Applications Across Industries', 'link': 'https://www.coursera.org/articles/generative-ai-applications', 'snippet': 'Applications of generative AI · Health care and pharmaceuticals · Advertising and marketing · Manufacturing · Software development · Financial ...', 'position': 1}, {'title': 'Generative AI Examples | Google Cloud', 'link': 'https://cloud.google.com/use-cases/generative-ai', 'snippet': 'Generative AI or generative artificial intelligence refers to the use of AI to create new content, like text, images, music, audio, and videos.', 'position': 2}, {'title': 'Generative AI: What Is It, Tools, Models, Applications and Use Cases', 'link': 'https://www.gartner.com/en/topics/generative-ai', 'snippet': 'Generative AI is a type of AI (such as ChatGPT) that can generate new forms of creative content, such as audio, code, images, text, simulations and videos.', 'position': 3, 'sitelinks': [{'title': 'What are the benefits and...', 'link': 'https://www.gartner.com/en/topics/generative-ai#q3'}, {'title': 'What are the risks of...', 'link': 'https://www.gartner.com/en/topics/generative-ai#q4'}, {'title': 'How will generative AI...', 'link': 'https://www.gartner.com/en/topics/generative-ai#q6'}]}, {'title': 'Generative AI: Applications, Use Cases, and Examples - Quantiphi', 'link': 'https://quantiphi.com/generative-ai/', 'snippet': 'Generative AI applications include personalized content creation, dynamic marketing strategies, and innovative data analysis techniques.', 'position': 4, 'sitelinks': [{'title': 'Applications of Generative AI', 'link': 'https://quantiphi.com/generative-ai/#applications-of-generative-ai'}, {'title': 'Challenges, Limitations, and...', 'link': 'https://quantiphi.com/generative-ai/#challenges-limitations-and-risks-of-generative-ai'}, {'title': 'Generative AI Video', 'link': 'https://quantiphi.com/generative-ai/#generative-ai-video'}]}, {'title': 'Top Generative AI Industry Applications & Use Cases - Turing', 'link': 'https://www.turing.com/resources/generative-ai-applications', 'snippet': 'Key generative AI applications · 1. Image generation and manipulation · 2. Software and coding · 3. Video creation · 4. Audio generation · 5. Text generation ...', 'position': 5, 'sitelinks': [{'title': '3. The known risks of...', 'link': 'https://www.turing.com/resources/generative-ai-applications#3.-the-known-risks-of-generative-ai'}, {'title': '4. The most popular examples...', 'link': 'https://www.turing.com/resources/generative-ai-applications#4.-the-most-popular-examples-of-generative-ai'}, {'title': '2. Software and coding', 'link': 'https://www.turing.com/resources/generative-ai-applications#2.-software-and-coding'}]}, {'title': 'Top Generative AI Applications Across Industries - Simplilearn.com', 'link': 'https://www.simplilearn.com/generative-ai-applications-article', 'snippet': 'Top Generative AI Applications Across Industries · 1. Healthcare and Pharmaceuticals. With Generative AI, healthcare becomes data-driven. · 2. Advertising and ...', 'position': 6}, {'title': 'Top 100+ Generative AI Applications with Real-Life Examples', 'link': 'https://research.aimultiple.com/generative-ai-applications/', 'snippet': 'Top 100+ Generative AI Applications with Real-Life Examples · 1. Video Generation · 2. Video Prediction · 3. Image Generation · 4. Semantic ...', 'position': 7, 'sitelinks': [{'title': 'Text-based Applications>', 'link': 'https://research.aimultiple.com/generative-ai-applications/#text-based-applications'}, {'title': 'Code-based Applications>', 'link': 'https://research.aimultiple.com/generative-ai-applications/#code-based-applications'}, {'title': 'Healthcare Applications>', 'link': 'https://research.aimultiple.com/generative-ai-applications/#healthcare-applications'}]}, {'title': \"10 Top Generative AI Tools for 2025: Today's Creative Powerhouses\", 'link': 'https://www.eweek.com/artificial-intelligence/generative-ai-apps-tools/', 'snippet': 'These leading generative AI tools can generate text, audio, images, videos, and 3D models, making it easy for individual users and businesses to streamline ...', 'position': 8, 'sitelinks': [{'title': 'ChatGPT', 'link': 'https://www.eweek.com/artificial-intelligence/generative-ai-apps-tools/#chatgpt'}, {'title': 'Claude AI', 'link': 'https://www.eweek.com/artificial-intelligence/generative-ai-apps-tools/#claude-ai'}, {'title': 'Meta AI', 'link': 'https://www.eweek.com/artificial-intelligence/generative-ai-apps-tools/#meta-ai'}, {'title': 'Gemini', 'link': 'https://www.eweek.com/artificial-intelligence/generative-ai-apps-tools/#gemini'}]}, {'title': 'Generative AI Technologies and Their Commercial Applications', 'link': 'https://www.gao.gov/products/gao-24-106946', 'snippet': 'Generative artificial intelligence systems—like ChatGPT and Gemini—create text, images, audio, video, and other content.', 'position': 9}, {'title': 'Generative AI, LLMs, and Foundation Models - AWS', 'link': 'https://aws.amazon.com/ai/generative-ai/', 'snippet': 'Discover the endless possibilities of generative AI on AWS to boost productivity, build differentiated experiences, and innovate.', 'position': 10, 'sitelinks': [{'title': 'Use cases', 'link': 'https://aws.amazon.com/ai/generative-ai/use-cases/'}, {'title': 'What is Generative AI?', 'link': 'https://aws.amazon.com/what-is/generative-ai/'}, {'title': 'Generative AI Customer Stories', 'link': 'https://aws.amazon.com/ai/generative-ai/customers/'}, {'title': 'Secure AI', 'link': 'https://aws.amazon.com/ai/generative-ai/security/'}]}], 'peopleAlsoAsk': [{'question': 'What is an example of a generative AI application?', 'snippet': 'Some of the applications of generative AI in the financial services industry include artificial intelligence investment strategies, drafting documentation and monitoring regulatory changes, and using generative AI as an interpreter to facilitate communications between clients and investors.\\nJul 24, 2024', 'title': '20 Examples of Generative AI Applications Across Industries', 'link': 'https://www.coursera.org/articles/generative-ai-applications'}, {'question': 'What is the most used generative AI tool?', 'snippet': 'Category\\nBest for\\nWondershare Filmora\\nAI video tools\\nAI video editing\\nMidjourney\\nAI image tools\\nHigh-quality images\\nDALL·E 3\\nAI image tools\\nEasy-to-create images\\nAdobe Photoshop\\nAI image tools\\nAI-powered photo editing', 'title': 'The 21 best generative AI tools in 2025 - Zapier', 'link': 'https://zapier.com/blog/generative-ai-tools/'}, {'question': 'What are the four commonly used gen AI applications?', 'snippet': 'The four generally used genai operations are genomic drug, inheritable engineering, gene remedy, and inheritable testing.', 'title': 'What are the four commonly used genai applications? choose the ...', 'link': 'https://brainly.in/question/57696270'}, {'question': 'What is generative AI?', 'snippet': 'Generative artificial intelligence, also known as generative AI or gen AI for short, is a type of AI that can create new content and ideas, including conversations, stories, images, videos, and music. It can learn human language, programming languages, art, chemistry, biology, or any complex subject matter.', 'title': 'What is Generative AI? - Gen AI Explained - AWS', 'link': 'https://aws.amazon.com/what-is/generative-ai/'}], 'relatedSearches': [{'query': 'Generative AI examples'}, {'query': 'Generative AI tools'}, {'query': 'Generative ai applications in daily life'}, {'query': 'Examples of generative AI tools'}, {'query': 'Generative AI models'}, {'query': 'Which of the following is an example of a generative AI application in the gaming industry'}, {'query': 'Which of the following is a generative AI application'}, {'query': 'Give two examples of how generative AI can be used in the real-world'}], 'credits': 1}\u001b[00m\n",
            "\n",
            "\n",
            "\u001b[1m\u001b[95m# Agent:\u001b[00m \u001b[1m\u001b[92mResearch Specialist\u001b[00m\n",
            "\u001b[95m## Final Answer:\u001b[00m \u001b[92m\n",
            "Generative AI, also known as generative artificial intelligence or gen AI, is a type of artificial intelligence that can create new content and ideas.  Unlike traditional AI, which focuses on analysis and prediction based on existing data, generative AI uses algorithms to generate original outputs such as text, images, audio, video, and code.  This is achieved through the use of generative models, which are trained on large datasets to learn the underlying patterns and structures of the data.  Once trained, these models can then generate new data that resembles the training data but is not a direct copy.\n",
            "\n",
            "Key aspects of Generative AI include:\n",
            "\n",
            "* **Generative Models:**  These are the core of generative AI, employing techniques like Generative Adversarial Networks (GANs), Variational Autoencoders (VAEs), and large language models (LLMs) to create new content.  LLMs, in particular, have gained significant prominence due to their ability to generate human-quality text.\n",
            "\n",
            "* **Training Data:**  The quality and quantity of the training data significantly impact the quality of the generated output.  Larger, more diverse datasets generally lead to better results.\n",
            "\n",
            "* **Applications:** Generative AI has a wide range of applications across various industries.  Examples include:\n",
            "    * **Text generation:**  Creating stories, articles, summaries, and code.  Chatbots like ChatGPT are prime examples.\n",
            "    * **Image generation:**  Producing realistic images from text descriptions or modifying existing images.  Tools like DALL-E 2 and Midjourney are prominent examples.\n",
            "    * **Audio generation:**  Creating music, sound effects, and voiceovers.\n",
            "    * **Video generation:**  Generating short videos from text prompts or images.\n",
            "    * **Drug discovery:**  Generating novel molecules for potential drug candidates.\n",
            "    * **Marketing and advertising:**  Creating personalized content and targeted advertising campaigns.\n",
            "    * **Software development:**  Assisting in code generation and debugging.\n",
            "\n",
            "* **Challenges and Limitations:**  Despite its potential, generative AI faces challenges such as:\n",
            "    * **Bias:**  Generative models can inherit biases present in the training data, leading to unfair or discriminatory outputs.\n",
            "    * **Ethical concerns:**  The potential for misuse, such as creating deepfakes or generating misleading information, raises significant ethical concerns.\n",
            "    * **Computational cost:**  Training and running generative models can be computationally expensive, requiring significant resources.\n",
            "    * **Explainability:**  Understanding why a generative model produces a particular output can be difficult, hindering trust and accountability.\n",
            "\n",
            "\n",
            "In summary, Generative AI represents a significant advancement in artificial intelligence, offering powerful tools for content creation and problem-solving across diverse domains.  However, it is crucial to address the ethical and practical challenges associated with its development and deployment to ensure responsible and beneficial use.\n",
            "```\u001b[00m\n",
            "\n",
            "\n",
            "Generative AI, also known as generative artificial intelligence or gen AI, is a type of artificial intelligence that can create new content and ideas.  Unlike traditional AI, which focuses on analysis and prediction based on existing data, generative AI uses algorithms to generate original outputs such as text, images, audio, video, and code.  This is achieved through the use of generative models, which are trained on large datasets to learn the underlying patterns and structures of the data.  Once trained, these models can then generate new data that resembles the training data but is not a direct copy.\n",
            "\n",
            "Key aspects of Generative AI include:\n",
            "\n",
            "* **Generative Models:**  These are the core of generative AI, employing techniques like Generative Adversarial Networks (GANs), Variational Autoencoders (VAEs), and large language models (LLMs) to create new content.  LLMs, in particular, have gained significant prominence due to their ability to generate human-quality text.\n",
            "\n",
            "* **Training Data:**  The quality and quantity of the training data significantly impact the quality of the generated output.  Larger, more diverse datasets generally lead to better results.\n",
            "\n",
            "* **Applications:** Generative AI has a wide range of applications across various industries.  Examples include:\n",
            "    * **Text generation:**  Creating stories, articles, summaries, and code.  Chatbots like ChatGPT are prime examples.\n",
            "    * **Image generation:**  Producing realistic images from text descriptions or modifying existing images.  Tools like DALL-E 2 and Midjourney are prominent examples.\n",
            "    * **Audio generation:**  Creating music, sound effects, and voiceovers.\n",
            "    * **Video generation:**  Generating short videos from text prompts or images.\n",
            "    * **Drug discovery:**  Generating novel molecules for potential drug candidates.\n",
            "    * **Marketing and advertising:**  Creating personalized content and targeted advertising campaigns.\n",
            "    * **Software development:**  Assisting in code generation and debugging.\n",
            "\n",
            "* **Challenges and Limitations:**  Despite its potential, generative AI faces challenges such as:\n",
            "    * **Bias:**  Generative models can inherit biases present in the training data, leading to unfair or discriminatory outputs.\n",
            "    * **Ethical concerns:**  The potential for misuse, such as creating deepfakes or generating misleading information, raises significant ethical concerns.\n",
            "    * **Computational cost:**  Training and running generative models can be computationally expensive, requiring significant resources.\n",
            "    * **Explainability:**  Understanding why a generative model produces a particular output can be difficult, hindering trust and accountability.\n",
            "\n",
            "\n",
            "In summary, Generative AI represents a significant advancement in artificial intelligence, offering powerful tools for content creation and problem-solving across diverse domains.  However, it is crucial to address the ethical and practical challenges associated with its development and deployment to ensure responsible and beneficial use.\n",
            "```\n"
          ]
        }
      ]
    },
    {
      "cell_type": "code",
      "source": [],
      "metadata": {
        "id": "AylY4xUhLIDO"
      },
      "execution_count": 32,
      "outputs": []
    }
  ]
}